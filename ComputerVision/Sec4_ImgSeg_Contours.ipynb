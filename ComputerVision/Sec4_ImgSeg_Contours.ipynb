{
  "nbformat": 4,
  "nbformat_minor": 0,
  "metadata": {
    "colab": {
      "name": "Sec4_ImgSeg_Contours.ipynb",
      "provenance": [],
      "authorship_tag": "ABX9TyNmT2lKTCM0pkCfLIoJ4Lk9",
      "include_colab_link": true
    },
    "kernelspec": {
      "name": "python3",
      "display_name": "Python 3"
    },
    "language_info": {
      "name": "python"
    }
  },
  "cells": [
    {
      "cell_type": "markdown",
      "metadata": {
        "id": "view-in-github",
        "colab_type": "text"
      },
      "source": [
        "<a href=\"https://colab.research.google.com/github/a22106/ImageClassification/blob/main/ComputerVision/Sec4_ImgSeg_Contours.ipynb\" target=\"_parent\"><img src=\"https://colab.research.google.com/assets/colab-badge.svg\" alt=\"Open In Colab\"/></a>"
      ]
    },
    {
      "cell_type": "markdown",
      "source": [
        "1. using find Countours\n",
        "2. Drawing Contours\n",
        "3. Hierachy Contours\n",
        "4. Contouring Modes (Simple vs Approx)"
      ],
      "metadata": {
        "id": "acBi-udKUJVk"
      }
    },
    {
      "cell_type": "code",
      "execution_count": null,
      "metadata": {
        "colab": {
          "base_uri": "https://localhost:8080/"
        },
        "id": "rbZe0m1vT0JU",
        "outputId": "2cfd0450-7004-4596-c856-856ff6265cad"
      },
      "outputs": [
        {
          "output_type": "stream",
          "name": "stdout",
          "text": [
            "--2022-06-26 14:17:04--  https://moderncomputervision.s3.eu-west-2.amazonaws.com/images.zip\n",
            "Resolving moderncomputervision.s3.eu-west-2.amazonaws.com (moderncomputervision.s3.eu-west-2.amazonaws.com)... 3.5.244.121\n",
            "Connecting to moderncomputervision.s3.eu-west-2.amazonaws.com (moderncomputervision.s3.eu-west-2.amazonaws.com)|3.5.244.121|:443... connected.\n",
            "HTTP request sent, awaiting response... 200 OK\n",
            "Length: 29586716 (28M) [application/zip]\n",
            "Saving to: ‘images.zip.1’\n",
            "\n",
            "images.zip.1        100%[===================>]  28.22M  12.3MB/s    in 2.3s    \n",
            "\n",
            "2022-06-26 14:17:07 (12.3 MB/s) - ‘images.zip.1’ saved [29586716/29586716]\n",
            "\n",
            "replace images/castara.jpeg? [y]es, [n]o, [A]ll, [N]one, [r]ename: N\n"
          ]
        }
      ],
      "source": [
        "import cv2\n",
        "import numpy as np\n",
        "from matplotlib import pyplot as plt\n",
        "\n",
        "def imshow(title = \"\", image = None, size = 10):\n",
        "  w, h = image.shape[0], image.shape[1]\n",
        "  aspect_ratio = w/h\n",
        "  plt.figure(figsize = (size * aspect_ratio, size))\n",
        "  plt.title(title)\n",
        "  plt.imshow(cv2.cvtColor(image, cv2.COLOR_BGR2RGB))\n",
        "  plt.show()\n",
        "\n",
        "!wget https://moderncomputervision.s3.eu-west-2.amazonaws.com/images.zip\n",
        "!unzip -qq images.zip\n"
      ]
    },
    {
      "cell_type": "markdown",
      "source": [
        "### What are Contours?\n",
        "Contours are continuous lines or curves that bound or cover the full boundary of an object</br>\n",
        "한국어로 등고선. 같은 값을 연결한 선을 뜻함</br>\n",
        "이미지에서는 동일한 색, 동일한 값을 가진 영역을 연결한 선"
      ],
      "metadata": {
        "id": "fjTvGtHDVmnN"
      }
    },
    {
      "cell_type": "code",
      "source": [
        "image = cv2.imread(\"images/LP.jpg\")\n",
        "imshow(\"LP\", image)"
      ],
      "metadata": {
        "colab": {
          "base_uri": "https://localhost:8080/",
          "height": 87
        },
        "id": "ix7S2MAIVj0K",
        "outputId": "75d4162d-bd2d-4da1-c376-4941584c2ad7"
      },
      "execution_count": null,
      "outputs": [
        {
          "output_type": "display_data",
          "data": {
            "text/plain": [
              "<Figure size 146.25x720 with 1 Axes>"
            ],
            "image/png": "[encoded data removed]"
          },
          "metadata": {
            "needs_background": "light"
          }
        }
      ]
    },
    {
      "cell_type": "markdown",
      "source": [
        "#### **Applying cv2.findContours()**\n",
        "\n",
        "```cv2.findContours(image, Retrieval Mode, Approximation Method)```\n",
        "\n",
        "**Retrieval Modes**\n",
        "- **RETR_LIST** - Retrieves all the contours, but doesn't create any parent-child relationship. Parents and kids are equal under this rule, and they are just contours. ie they all belongs to same hierarchy level.\n",
        "- **RETR_EXTERNAL** - eturns only extreme outer flags. All child contours are left behind.\n",
        "- **RETR_CCOMP** - This flag retrieves all the contours and arranges them to a 2-level hierarchy. ie external contours of the object (ie its boundary) are placed in hierarchy-1. And the contours of holes inside object (if any) is placed in hierarchy-2. If any object inside it, its contour is placed again in hierarchy-1 only. And its hole in hierarchy-2 and so on.\n",
        "- **RETR_TREE** -  It retrieves all the contours and creates a full family hierarchy list. \n",
        "\n",
        "**Approximation Method Options**\n",
        "- cv2.CHAIN_APPROX_NONE – Stores all the points along the line(inefficient!)\n",
        "- cv2.CHAIN_APPROX_SIMPLE – Stores the end points of each line"
      ],
      "metadata": {
        "id": "TSCDDWfOgZoY"
      }
    },
    {
      "cell_type": "code",
      "source": [
        "gray = cv2.cvtColor(image, cv2.COLOR_BGR2GRAY)\n",
        "imshow(\"gray LP\", gray)\n",
        "\n",
        "_, th2 = cv2.threshold(gray, 0, 255, cv2.THRESH_BINARY + cv2.THRESH_OTSU) # threshold returns threshold that was used and thresholded image\n",
        "imshow('After thresholding', th2)\n",
        "\n",
        "# finding contours\n",
        "# use a copy of my image e.g. edged.copy(), since findContours alters the image\n",
        "# findcontours(image, mode, method)\n",
        "# hierarchy: 이미지에는 여러 contours가 있으며 그 사이에는 상관관계가 있고, 그 관계를 hierarchy라고 함\n",
        "# hierarchy를 통해 parents, child, 또는 동등한 상관관계에서 이웃 파악 가능\n",
        "# Contour 내부에 다른 contour가 있다면 안쪽의 contour를 자식 계층이라 함\n",
        "# RETR_LIST: 모든 contour를 찾지만 상관관계 고려하지 않음\n",
        "# RETR_TREE: 모든 hierarchy의 상관관계를 나타냄\n",
        "# RETR_EXTERNAL: 가장 바깥쪽(최상위 부모계층)이 있는 Contours만을 반환함. RETR_TREE mode로 반환된 hierarchy에서 3번째 index가 -1인 Contours만은 반환함\n",
        "# RETR_CCOMP: 부모/자식 관계를 2단계로 표현함 독립적으로 떨어져있는 Contours는 부모/자식 관계가 따로 존재하지 않으므로 해당 Contours의 hierarchy의 2, 3번쨰 index는 -1d이지만, 안에 구멍이 있는 contours는 경우가 다름\n",
        "# Chain_approx_none: 경계선 모두를 저장하는 방식\n",
        "# chain_approx_simple: 모서리 포인트만 저장\n",
        "contours, hierarchy, = cv2.findContours(th2, cv2.RETR_LIST, cv2.CHAIN_APPROX_NONE) \n",
        "\n",
        "# Draw all contours, note this \n",
        "# Use -1 as the 3rd parameter to draw all\n",
        "cv2.drawContours(image, contours, -1, (0, 255, 0), thickness = 2)\n",
        "imshow(\"draw contours\", image)\n",
        "\n",
        "print(\"number of contours found = \" + str(len(contours)))"
      ],
      "metadata": {
        "colab": {
          "base_uri": "https://localhost:8080/",
          "height": 245
        },
        "id": "sqT2Nz_XV5yp",
        "outputId": "09afdba1-8e68-4a8a-b3d3-ee7ce47c574a"
      },
      "execution_count": null,
      "outputs": [
        {
          "output_type": "display_data",
          "data": {
            "text/plain": [
              "<Figure size 146.25x720 with 1 Axes>"
            ],
            "image/png": "[encoded data removed]"
          },
          "metadata": {
            "needs_background": "light"
          }
        },
        {
          "output_type": "display_data",
          "data": {
            "text/plain": [
              "<Figure size 146.25x720 with 1 Axes>"
            ],
            "image/png": "[encoded data removed]"
          },
          "metadata": {
            "needs_background": "light"
          }
        },
        {
          "output_type": "display_data",
          "data": {
            "text/plain": [
              "<Figure size 146.25x720 with 1 Axes>"
            ],
            "image/png": "[encoded data removed]"
          },
          "metadata": {
            "needs_background": "light"
          }
        },
        {
          "output_type": "stream",
          "name": "stdout",
          "text": [
            "number of contours found = 15\n"
          ]
        }
      ]
    }
  ]
}