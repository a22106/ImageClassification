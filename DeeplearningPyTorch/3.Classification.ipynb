{
  "nbformat": 4,
  "nbformat_minor": 0,
  "metadata": {
    "colab": {
      "name": "Classification",
      "provenance": [],
      "authorship_tag": "ABX9TyPmfyv0CKGMaaY0Gv9o4mqJ",
      "include_colab_link": true
    },
    "kernelspec": {
      "name": "python3",
      "display_name": "Python 3"
    },
    "language_info": {
      "name": "python"
    }
  },
  "cells": [
    {
      "cell_type": "markdown",
      "metadata": {
        "id": "view-in-github",
        "colab_type": "text"
      },
      "source": [
        "<a href=\"https://colab.research.google.com/github/a22106/ImageClassification/blob/main/DeeplearningPyTorch/Classification.ipynb\" target=\"_parent\"><img src=\"https://colab.research.google.com/assets/colab-badge.svg\" alt=\"Open In Colab\"/></a>"
      ]
    },
    {
      "cell_type": "markdown",
      "source": [
        "# Linear Classification Theory\n",
        "* Regression: line to be close to the data points\n",
        "* Classification: separate data points\n",
        "\n",
        "## Basic Steps\n",
        "1. load in some data</br>\n",
        "X, Y = get_data()\n",
        "2. instantiate model</br>\n",
        "model = MyLinearClassifier()\n",
        "3. train model</br>\n",
        "model.fit(X, Y)\n",
        "4. make predictions</br>\n",
        "model.predict(X_test)\n",
        "5. evaluate accuracy</br>\n",
        "model.score(X, Y)\n",
        "\n",
        "# Accuracy\n",
        "* Predictions can only be right or wrong\n",
        "* train accuracy and test accuracy\n",
        "\n",
        "$$accuracy = \\frac{correct}{total}$$\n",
        "\n",
        "# Line\n",
        "* seperates data points\n",
        "\n",
        "$$w_1x_1 + w_2x_2 + b=0$$\n",
        "\n",
        "![](http://i.imgur.com/aYznYzr.png)\n",
        "\n",
        "# why make things complicated?\n",
        "* y is the target: it now represents the color of the data points\n",
        "\n",
        "# Exercise\n",
        "* Rearrange into y = mx + b'format(use b' to differentiate it from original b)\n",
        "\n",
        "$$w_1x_1 + w_2x_2 + b=0\\\\↓$$\n",
        "\n",
        "$$x_2=(\\frac{-w_1}{w_2})x_w+(\\frac{-b}{w_2})=mx_1+b'$$\n",
        "\n"
      ],
      "metadata": {
        "id": "4mNKZ0J6L7Hk"
      }
    },
    {
      "cell_type": "markdown",
      "source": [
        "#The Decision Rule\n",
        "* how do I use the line to classify\n",
        "\n",
        "$w_1x_1 + w_2x_2 + b=a$\n",
        "라 하면</br>\n",
        "$if\\ a\\geq0 → predict 1\\\\\n",
        "if\\ a<0→ predict 0\n",
        "$\n",
        "\n",
        "* 이 선(방정식)을 이용하면 예측 모델을 만들기 쉬워짐\n",
        "* x를 입력하고 선 위면 1 아래면 0으로 </br>\n",
        "\n",
        "![](http://i.imgur.com/aYznYzr.png)\n",
        "\n",
        "* can be written more compactly as\n",
        "$$\\hat{y}=u(a),\\ a=w_1x_1 + w_2x_2+b$$\n",
        "* 딥러닝에서 sigmoid로 표현 시\n",
        "$$\\hat{y}=σ(a),\\ a=w_1x_1+w_2x_2+b$$\n",
        "\n",
        "* 위 식들을 activation(활성화 함수)라고 함\n",
        "![](https://miro.medium.com/max/666/1*nrxtwp6rzqdFhgYh0x-eVw.png)"
      ],
      "metadata": {
        "id": "n3AYjdjSbc2v"
      }
    },
    {
      "cell_type": "code",
      "source": [
        ""
      ],
      "metadata": {
        "id": "NZLS6Q_El_7Z"
      },
      "execution_count": null,
      "outputs": []
    },
    {
      "cell_type": "markdown",
      "source": [
        "## 확률적 해석(Probabilistic Interpretation)\n",
        "* 일반적으로 이러한 output을 \"주어진 x에 대하여 y=1로 만들 확률\"이라 함\n",
        "* the probability that y =1 given x\n",
        "$$p(y=1|x)=\\sigma(w_1x_1+w_2x_2+b)$$\n",
        "</br>\n",
        "* 0이하 -> 0, 0 이상 -> 1 이를 식으로 나타내면</br>\n",
        "$if\\ p(y=1|x) \\geq 50\\% → predict\\ 1, else\\ 0$</br>\n",
        "* 여기에 `sigmoid`를 적용\n",
        "* 이러한 모델을 논리 분류(Logistic regression)라 함\n",
        "* sigmoid = logistic function\n",
        "* 이를 줄여서 `logit` 또는 `activation`이라 함\n",
        "\n",
        "\n",
        "\n",
        "\n",
        "\n"
      ],
      "metadata": {
        "id": "PU5EXiMCgBjF"
      }
    },
    {
      "cell_type": "markdown",
      "source": [
        "Logistic Regression with > 2 Inputs\n",
        "* 2 개 이상의 input을 가지면?\n",
        "<li>* 혹은 수 백 수 천 개 이상이면?</li>\n",
        "* 지금까지 배운 matrice or vector를 사용\n",
        "</br>\n",
        "$$p(y=1|x)=\\sigma(w^Tx+b)=\\sigma(\\sum^D_{d=1}w_dx_d+b)$$\n",
        "</br>\n",
        "<img width=\"200\" src= https://img1.daumcdn.net/thumb/R1280x0/?scode=mtistory2&fname=https%3A%2F%2Fblog.kakaocdn.net%2Fdn%2FI1HTv%2FbtrGlhfxtUl%2FOYFG3okB5dHvIDSJRPFEs0%2Fimg.png>\n"
      ],
      "metadata": {
        "id": "AQtvX378dlIH"
      }
    },
    {
      "cell_type": "markdown",
      "source": [
        "# Loss\n",
        "* linear regression 문제에서 target과 prediction은 실제 숫자 값임(Mean Squared Error)\n",
        "* Classification 문제에서 target은 category(class)임\n",
        "* For classification of many # of classes: cross-entropy loss\n",
        "* binary classification: binary cross-entropy loss"
      ],
      "metadata": {
        "id": "dr0y3KLWun15"
      }
    },
    {
      "cell_type": "code",
      "execution_count": 1,
      "metadata": {
        "id": "KC973TmfKKRY"
      },
      "outputs": [],
      "source": [
        "import torch\n",
        "import torch.nn as nn\n",
        "import numpy as np\n",
        "import matplotlib.pyplot as plt"
      ]
    },
    {
      "cell_type": "code",
      "source": [
        "from sklearn.datasets import load_breast_cancer"
      ],
      "metadata": {
        "id": "0Z6vBzgFKbu0"
      },
      "execution_count": 2,
      "outputs": []
    },
    {
      "cell_type": "code",
      "source": [
        "data = load_breast_cancer()"
      ],
      "metadata": {
        "id": "iJZ0e9HTKfES"
      },
      "execution_count": 3,
      "outputs": []
    },
    {
      "cell_type": "code",
      "source": [
        "type(data)"
      ],
      "metadata": {
        "colab": {
          "base_uri": "https://localhost:8080/"
        },
        "id": "exZhWxBiKhPZ",
        "outputId": "41d54e48-04ef-4ea0-e6ad-8c72d40e012c"
      },
      "execution_count": 4,
      "outputs": [
        {
          "output_type": "execute_result",
          "data": {
            "text/plain": [
              "sklearn.utils.Bunch"
            ]
          },
          "metadata": {},
          "execution_count": 4
        }
      ]
    },
    {
      "cell_type": "code",
      "source": [
        "data.keys()"
      ],
      "metadata": {
        "colab": {
          "base_uri": "https://localhost:8080/"
        },
        "id": "6X812rFDKh3x",
        "outputId": "ba05b40f-fe8a-4ee8-95b7-33472e1ead9f"
      },
      "execution_count": 5,
      "outputs": [
        {
          "output_type": "execute_result",
          "data": {
            "text/plain": [
              "dict_keys(['data', 'target', 'frame', 'target_names', 'DESCR', 'feature_names', 'filename', 'data_module'])"
            ]
          },
          "metadata": {},
          "execution_count": 5
        }
      ]
    },
    {
      "cell_type": "code",
      "source": [
        "data.data.shape"
      ],
      "metadata": {
        "colab": {
          "base_uri": "https://localhost:8080/"
        },
        "id": "5hHeOAghKmDL",
        "outputId": "164cc4b2-a3de-4350-f165-a7509be04038"
      },
      "execution_count": 6,
      "outputs": [
        {
          "output_type": "execute_result",
          "data": {
            "text/plain": [
              "(569, 30)"
            ]
          },
          "metadata": {},
          "execution_count": 6
        }
      ]
    },
    {
      "cell_type": "code",
      "source": [
        "data.target_names"
      ],
      "metadata": {
        "colab": {
          "base_uri": "https://localhost:8080/"
        },
        "id": "aPV5jx9TK731",
        "outputId": "67cf6c60-9462-4db5-a585-36dc339dae26"
      },
      "execution_count": 7,
      "outputs": [
        {
          "output_type": "execute_result",
          "data": {
            "text/plain": [
              "array(['malignant', 'benign'], dtype='<U9')"
            ]
          },
          "metadata": {},
          "execution_count": 7
        }
      ]
    },
    {
      "cell_type": "code",
      "source": [
        "data.target.shape"
      ],
      "metadata": {
        "colab": {
          "base_uri": "https://localhost:8080/"
        },
        "id": "DLXaALccLJfi",
        "outputId": "4bbf6a7d-8513-4477-81f0-ba3642fa968a"
      },
      "execution_count": 8,
      "outputs": [
        {
          "output_type": "execute_result",
          "data": {
            "text/plain": [
              "(569,)"
            ]
          },
          "metadata": {},
          "execution_count": 8
        }
      ]
    },
    {
      "cell_type": "code",
      "source": [
        "data.data.cla"
      ],
      "metadata": {
        "id": "YWHP2crGVq7R"
      },
      "execution_count": null,
      "outputs": []
    }
  ]
}