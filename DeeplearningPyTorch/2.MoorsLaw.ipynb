{
  "nbformat": 4,
  "nbformat_minor": 0,
  "metadata": {
    "colab": {
      "name": "MoorsLaw.ipynb",
      "provenance": [],
      "authorship_tag": "ABX9TyPVoQURc0vuobOi9/5r1iwe",
      "include_colab_link": true
    },
    "kernelspec": {
      "name": "python3",
      "display_name": "Python 3"
    },
    "language_info": {
      "name": "python"
    }
  },
  "cells": [
    {
      "cell_type": "markdown",
      "metadata": {
        "id": "view-in-github",
        "colab_type": "text"
      },
      "source": [
        "<a href=\"https://colab.research.google.com/github/a22106/ImageClassification/blob/main/DeeplearningPyTorch/MoorsLaw.ipynb\" target=\"_parent\"><img src=\"https://colab.research.google.com/assets/colab-badge.svg\" alt=\"Open In Colab\"/></a>"
      ]
    },
    {
      "cell_type": "markdown",
      "source": [
        "# Caveat\n",
        "* notmalize data (범위 줄임)\n",
        "* e.g. convert samples to mean 0, variance 1"
      ],
      "metadata": {
        "id": "9gOLmJ6IuMr1"
      }
    },
    {
      "cell_type": "code",
      "execution_count": null,
      "metadata": {
        "id": "k4adsDUXuJIV"
      },
      "outputs": [],
      "source": [
        "import torch\n",
        "import torch.nn as nn\n",
        "import pandas as pd\n",
        "import numpy as np\n",
        "import matplotlib.pyplot as plt"
      ]
    },
    {
      "cell_type": "code",
      "source": [
        "!wget -nc !wget -nc https://raw.githubusercontent.com/lazyprogrammer/machine_learning_examples/master/tf2.0/moore.csv\n"
      ],
      "metadata": {
        "colab": {
          "base_uri": "https://localhost:8080/"
        },
        "id": "gmceWOVluOjE",
        "outputId": "b5c24654-e257-4428-f5c9-3a333975cae5"
      },
      "execution_count": null,
      "outputs": [
        {
          "output_type": "stream",
          "name": "stdout",
          "text": [
            "--2022-07-02 11:49:44--  http://!wget/\n",
            "Resolving !wget (!wget)... failed: Name or service not known.\n",
            "wget: unable to resolve host address ‘!wget’\n",
            "--2022-07-02 11:49:44--  https://raw.githubusercontent.com/lazyprogrammer/machine_learning_examples/master/tf2.0/moore.csv\n",
            "Resolving raw.githubusercontent.com (raw.githubusercontent.com)... 185.199.108.133, 185.199.109.133, 185.199.110.133, ...\n",
            "Connecting to raw.githubusercontent.com (raw.githubusercontent.com)|185.199.108.133|:443... connected.\n",
            "HTTP request sent, awaiting response... 200 OK\n",
            "Length: 2302 (2.2K) [text/plain]\n",
            "Saving to: ‘moore.csv’\n",
            "\n",
            "\rmoore.csv             0%[                    ]       0  --.-KB/s               \rmoore.csv           100%[===================>]   2.25K  --.-KB/s    in 0s      \n",
            "\n",
            "2022-07-02 11:49:44 (48.9 MB/s) - ‘moore.csv’ saved [2302/2302]\n",
            "\n",
            "FINISHED --2022-07-02 11:49:44--\n",
            "Total wall clock time: 0.2s\n",
            "Downloaded: 1 files, 2.2K in 0s (48.9 MB/s)\n"
          ]
        }
      ]
    },
    {
      "cell_type": "code",
      "source": [
        "# Load in the data\n",
        "#reshape\n",
        "data = pd.read_csv('moore.csv', header = None).values\n",
        "X = data[:, 0].reshape(-1, 1) # 2차원 형태의 배열로 변경. N x D, D = 1\n",
        "Y = data[:, 1].reshape(-1, 1)"
      ],
      "metadata": {
        "id": "-GujMO7JuQ6x"
      },
      "execution_count": null,
      "outputs": []
    },
    {
      "cell_type": "code",
      "source": [
        "# 지수 형태 데이터\n",
        "plt.scatter(X, Y)"
      ],
      "metadata": {
        "colab": {
          "base_uri": "https://localhost:8080/",
          "height": 294
        },
        "id": "rHCI1yPawkiy",
        "outputId": "cd156096-1e30-49bd-84f6-5aa696036b1f"
      },
      "execution_count": null,
      "outputs": [
        {
          "output_type": "execute_result",
          "data": {
            "text/plain": [
              "<matplotlib.collections.PathCollection at 0x7fd2d5b4dc50>"
            ]
          },
          "metadata": {},
          "execution_count": 17
        },
        {
          "output_type": "display_data",
          "data": {
            "text/plain": [
              "<Figure size 432x288 with 1 Axes>"
            ],
            "image/png": "[encoded data removed]"
          },
          "metadata": {
            "needs_background": "light"
          }
        }
      ]
    },
    {
      "cell_type": "code",
      "source": [
        "# linear model을 만들기 위해 지수 형태의 데이터를 log로 변환\n",
        "Y = np.log(Y)\n",
        "plt.scatter(X, Y)"
      ],
      "metadata": {
        "colab": {
          "base_uri": "https://localhost:8080/",
          "height": 283
        },
        "id": "ka39XYgKwv0C",
        "outputId": "6dd4a953-a942-473d-8d1a-01633790ab33"
      },
      "execution_count": null,
      "outputs": [
        {
          "output_type": "execute_result",
          "data": {
            "text/plain": [
              "<matplotlib.collections.PathCollection at 0x7fd2d55c5190>"
            ]
          },
          "metadata": {},
          "execution_count": 18
        },
        {
          "output_type": "display_data",
          "data": {
            "text/plain": [
              "<Figure size 432x288 with 1 Axes>"
            ],
            "image/png": "[encoded data removed]"
          },
          "metadata": {
            "needs_background": "light"
          }
        }
      ]
    },
    {
      "cell_type": "code",
      "source": [
        "# Scale\n",
        "mx = X.mean()\n",
        "sx = X.std() # 표준편차\n",
        "my = Y.mean()\n",
        "sy = Y.std()\n",
        "\n",
        "# z-score 정규화(normalization)\n",
        "X = (X - mx)/sx\n",
        "Y = (Y - my)/sy"
      ],
      "metadata": {
        "id": "zuoFBY9oxZ-P"
      },
      "execution_count": null,
      "outputs": []
    },
    {
      "cell_type": "code",
      "source": [
        "# everything is centered and in a small range\n",
        "plt.scatter(X, Y)"
      ],
      "metadata": {
        "colab": {
          "base_uri": "https://localhost:8080/",
          "height": 283
        },
        "id": "4PZlf3blyENL",
        "outputId": "29141e08-0eb5-4418-e35a-ff90b9a2ca5a"
      },
      "execution_count": null,
      "outputs": [
        {
          "output_type": "execute_result",
          "data": {
            "text/plain": [
              "<matplotlib.collections.PathCollection at 0x7fd2d5376c50>"
            ]
          },
          "metadata": {},
          "execution_count": 20
        },
        {
          "output_type": "display_data",
          "data": {
            "text/plain": [
              "<Figure size 432x288 with 1 Axes>"
            ],
            "image/png": "[encoded data removed]"
          },
          "metadata": {
            "needs_background": "light"
          }
        }
      ]
    },
    {
      "cell_type": "code",
      "source": [
        "# Cast to float32\n",
        "X = X.astype(np.float32)\n",
        "Y = Y.astype(np.float32)"
      ],
      "metadata": {
        "id": "WW7WqznuyZCk"
      },
      "execution_count": null,
      "outputs": []
    },
    {
      "cell_type": "code",
      "source": [
        "# Linear regression model 생성\n",
        "model = nn.Linear(1, 1)"
      ],
      "metadata": {
        "id": "jMxxsAYiyh8N"
      },
      "execution_count": null,
      "outputs": []
    },
    {
      "cell_type": "code",
      "source": [
        "# Loss and optimizer\n",
        "criterion = nn.MSELoss()\n",
        "optimizer = torch.optim.SGD(model.parameters(), lr = 0.1)"
      ],
      "metadata": {
        "id": "veiECbFkzIqq"
      },
      "execution_count": null,
      "outputs": []
    },
    {
      "cell_type": "code",
      "source": [
        "inputs = torch.from_numpy(X)\n",
        "targets = torch.from_numpy(Y)"
      ],
      "metadata": {
        "id": "5g8sAB83zUya"
      },
      "execution_count": null,
      "outputs": []
    },
    {
      "cell_type": "code",
      "source": [
        "type(inputs)"
      ],
      "metadata": {
        "colab": {
          "base_uri": "https://localhost:8080/"
        },
        "id": "TD3alRBFzi5X",
        "outputId": "9d1b4603-e799-4c19-a231-05e06bfb0b9c"
      },
      "execution_count": null,
      "outputs": [
        {
          "output_type": "execute_result",
          "data": {
            "text/plain": [
              "torch.Tensor"
            ]
          },
          "metadata": {},
          "execution_count": 27
        }
      ]
    },
    {
      "cell_type": "code",
      "source": [
        "n_epochs = 100\n",
        "losses = []\n",
        "for it in range(n_epochs):\n",
        "  # zero the parameter gradients\n",
        "  optimizer.zero_grad()\n",
        "\n",
        "  # Forward pass\n",
        "  outputs = model(inputs)\n",
        "  loss = criterion(outputs, targets)\n",
        "\n",
        "  # Record the loss\n",
        "  losses.append(loss.item())\n",
        "\n",
        "  # Backward and optimize\n",
        "  loss.backward()\n",
        "  optimizer.step()\n",
        "\n",
        "  print(f'epoches: {it+1}/{n_epochs}, loss: {loss.item():.4f}')"
      ],
      "metadata": {
        "colab": {
          "base_uri": "https://localhost:8080/"
        },
        "id": "T7dcByCGzmuy",
        "outputId": "b3486ee7-8eb0-42cd-ae29-be5bbf3ba7c7"
      },
      "execution_count": null,
      "outputs": [
        {
          "output_type": "stream",
          "name": "stdout",
          "text": [
            "epoches: 1/100, loss: 0.0698\n",
            "epoches: 2/100, loss: 0.0585\n",
            "epoches: 3/100, loss: 0.0513\n",
            "epoches: 4/100, loss: 0.0467\n",
            "epoches: 5/100, loss: 0.0437\n",
            "epoches: 6/100, loss: 0.0418\n",
            "epoches: 7/100, loss: 0.0406\n",
            "epoches: 8/100, loss: 0.0399\n",
            "epoches: 9/100, loss: 0.0394\n",
            "epoches: 10/100, loss: 0.0390\n",
            "epoches: 11/100, loss: 0.0388\n",
            "epoches: 12/100, loss: 0.0387\n",
            "epoches: 13/100, loss: 0.0386\n",
            "epoches: 14/100, loss: 0.0386\n",
            "epoches: 15/100, loss: 0.0385\n",
            "epoches: 16/100, loss: 0.0385\n",
            "epoches: 17/100, loss: 0.0385\n",
            "epoches: 18/100, loss: 0.0385\n",
            "epoches: 19/100, loss: 0.0385\n",
            "epoches: 20/100, loss: 0.0385\n",
            "epoches: 21/100, loss: 0.0385\n",
            "epoches: 22/100, loss: 0.0385\n",
            "epoches: 23/100, loss: 0.0385\n",
            "epoches: 24/100, loss: 0.0385\n",
            "epoches: 25/100, loss: 0.0385\n",
            "epoches: 26/100, loss: 0.0385\n",
            "epoches: 27/100, loss: 0.0385\n",
            "epoches: 28/100, loss: 0.0385\n",
            "epoches: 29/100, loss: 0.0385\n",
            "epoches: 30/100, loss: 0.0385\n",
            "epoches: 31/100, loss: 0.0385\n",
            "epoches: 32/100, loss: 0.0385\n",
            "epoches: 33/100, loss: 0.0385\n",
            "epoches: 34/100, loss: 0.0385\n",
            "epoches: 35/100, loss: 0.0385\n",
            "epoches: 36/100, loss: 0.0385\n",
            "epoches: 37/100, loss: 0.0385\n",
            "epoches: 38/100, loss: 0.0385\n",
            "epoches: 39/100, loss: 0.0385\n",
            "epoches: 40/100, loss: 0.0385\n",
            "epoches: 41/100, loss: 0.0385\n",
            "epoches: 42/100, loss: 0.0385\n",
            "epoches: 43/100, loss: 0.0385\n",
            "epoches: 44/100, loss: 0.0385\n",
            "epoches: 45/100, loss: 0.0385\n",
            "epoches: 46/100, loss: 0.0385\n",
            "epoches: 47/100, loss: 0.0385\n",
            "epoches: 48/100, loss: 0.0385\n",
            "epoches: 49/100, loss: 0.0385\n",
            "epoches: 50/100, loss: 0.0385\n",
            "epoches: 51/100, loss: 0.0385\n",
            "epoches: 52/100, loss: 0.0385\n",
            "epoches: 53/100, loss: 0.0385\n",
            "epoches: 54/100, loss: 0.0385\n",
            "epoches: 55/100, loss: 0.0385\n",
            "epoches: 56/100, loss: 0.0385\n",
            "epoches: 57/100, loss: 0.0385\n",
            "epoches: 58/100, loss: 0.0385\n",
            "epoches: 59/100, loss: 0.0385\n",
            "epoches: 60/100, loss: 0.0385\n",
            "epoches: 61/100, loss: 0.0385\n",
            "epoches: 62/100, loss: 0.0385\n",
            "epoches: 63/100, loss: 0.0385\n",
            "epoches: 64/100, loss: 0.0385\n",
            "epoches: 65/100, loss: 0.0385\n",
            "epoches: 66/100, loss: 0.0385\n",
            "epoches: 67/100, loss: 0.0385\n",
            "epoches: 68/100, loss: 0.0385\n",
            "epoches: 69/100, loss: 0.0385\n",
            "epoches: 70/100, loss: 0.0385\n",
            "epoches: 71/100, loss: 0.0385\n",
            "epoches: 72/100, loss: 0.0385\n",
            "epoches: 73/100, loss: 0.0385\n",
            "epoches: 74/100, loss: 0.0385\n",
            "epoches: 75/100, loss: 0.0385\n",
            "epoches: 76/100, loss: 0.0385\n",
            "epoches: 77/100, loss: 0.0385\n",
            "epoches: 78/100, loss: 0.0385\n",
            "epoches: 79/100, loss: 0.0385\n",
            "epoches: 80/100, loss: 0.0385\n",
            "epoches: 81/100, loss: 0.0385\n",
            "epoches: 82/100, loss: 0.0385\n",
            "epoches: 83/100, loss: 0.0385\n",
            "epoches: 84/100, loss: 0.0385\n",
            "epoches: 85/100, loss: 0.0385\n",
            "epoches: 86/100, loss: 0.0385\n",
            "epoches: 87/100, loss: 0.0385\n",
            "epoches: 88/100, loss: 0.0385\n",
            "epoches: 89/100, loss: 0.0385\n",
            "epoches: 90/100, loss: 0.0385\n",
            "epoches: 91/100, loss: 0.0385\n",
            "epoches: 92/100, loss: 0.0385\n",
            "epoches: 93/100, loss: 0.0385\n",
            "epoches: 94/100, loss: 0.0385\n",
            "epoches: 95/100, loss: 0.0385\n",
            "epoches: 96/100, loss: 0.0385\n",
            "epoches: 97/100, loss: 0.0385\n",
            "epoches: 98/100, loss: 0.0385\n",
            "epoches: 99/100, loss: 0.0385\n",
            "epoches: 100/100, loss: 0.0385\n"
          ]
        }
      ]
    },
    {
      "cell_type": "code",
      "source": [
        "plt.plot(losses)"
      ],
      "metadata": {
        "colab": {
          "base_uri": "https://localhost:8080/",
          "height": 283
        },
        "id": "QqCHbuWS70MR",
        "outputId": "829f8024-ab71-4dd2-c4cd-a0a1bdf430c8"
      },
      "execution_count": null,
      "outputs": [
        {
          "output_type": "execute_result",
          "data": {
            "text/plain": [
              "[<matplotlib.lines.Line2D at 0x7fd2d4febdd0>]"
            ]
          },
          "metadata": {},
          "execution_count": 32
        },
        {
          "output_type": "display_data",
          "data": {
            "text/plain": [
              "<Figure size 432x288 with 1 Axes>"
            ],
            "image/png": "[encoded data removed]"
          },
          "metadata": {
            "needs_background": "light"
          }
        }
      ]
    },
    {
      "cell_type": "code",
      "source": [
        "predicted = model(torch.from_numpy(X)).detach().numpy()\n",
        "plt.plot(X, Y, 'ro', label = 'Original data')\n",
        "plt.plot(X, predicted, label = 'Fitted line')\n",
        "plt.legend()\n",
        "plt.show()"
      ],
      "metadata": {
        "colab": {
          "base_uri": "https://localhost:8080/",
          "height": 265
        },
        "id": "p65t5O314GJC",
        "outputId": "4bdda22c-05ad-4291-bb90-197e2f50b609"
      },
      "execution_count": null,
      "outputs": [
        {
          "output_type": "display_data",
          "data": {
            "text/plain": [
              "<Figure size 432x288 with 1 Axes>"
            ],
            "image/png": "[encoded data removed]"
          },
          "metadata": {
            "needs_background": "light"
          }
        }
      ]
    },
    {
      "cell_type": "code",
      "source": [
        "w = model.weight.data.numpy()\n",
        "print(w)"
      ],
      "metadata": {
        "colab": {
          "base_uri": "https://localhost:8080/"
        },
        "id": "iU8t_X_i8c6t",
        "outputId": "bcb5668c-2531-4484-8e1c-cdcd0e814556"
      },
      "execution_count": null,
      "outputs": [
        {
          "output_type": "stream",
          "name": "stdout",
          "text": [
            "[[0.980571]]\n"
          ]
        }
      ]
    },
    {
      "cell_type": "markdown",
      "source": [
        "# Transforming back to original scale\n",
        "The original hypothesis is that the growth is exponential.\n",
        "$$C = C_0r^t$$\n",
        "\n",
        "$$\\log{C} =\\log{C_0}+\\log{r*t} $$\n",
        "\n",
        "$$y' = wx' + b$$\n",
        "\n",
        "$$\\frac{y-m_y}{s_y}=w\\frac{x-m_x}{s_x}+b$$\n",
        "\n",
        "$$y = w\\frac{s_y}{s_x}x-w\\frac{s_y}{s_x}m_x+bs_y+m_y=ax+\\log{C_0}$$\n",
        "\n",
        "$$a = w\\frac{s_y}{s_x}$$"
      ],
      "metadata": {
        "id": "3TyyPfzE8hev"
      }
    },
    {
      "cell_type": "code",
      "source": [
        "a = w[0,0]*sy/sx\n",
        "print(a)"
      ],
      "metadata": {
        "colab": {
          "base_uri": "https://localhost:8080/"
        },
        "id": "WOEyE3PY8g6Y",
        "outputId": "7ac5bef2-2961-4b14-dd82-22d48df98b08"
      },
      "execution_count": null,
      "outputs": [
        {
          "output_type": "stream",
          "name": "stdout",
          "text": [
            "0.3416824347306627\n"
          ]
        }
      ]
    },
    {
      "cell_type": "markdown",
      "source": [
        "# Exponential Growth Model\n",
        "The original model for exponential growth:\n",
        "$$C = C_0r^t$$\n",
        "C: transistor\n",
        "t: year\n",
        "\n",
        "$$\\log{C} =\\log{C_0}+\\log{r*t} $$\n",
        "\n",
        "$$y' = wx' + b$$\n",
        "\n",
        "$$\\frac{y-m_y}{s_y}=w\\frac{x-m_x}{s_x}+b$$\n",
        "\n",
        "$$y = w\\frac{s_y}{s_x}x-w\\frac{s_y}{s_x}m_x+bs_y+m_y=ax+\\log{C_0}$$\n",
        "\n",
        "$$a = w\\frac{s_y}{s_x}$$"
      ],
      "metadata": {
        "id": "l3_9jM87C_kE"
      }
    },
    {
      "cell_type": "code",
      "source": [
        "()"
      ],
      "metadata": {
        "id": "eryaoNZgJ2F1"
      },
      "execution_count": null,
      "outputs": []
    }
  ]
}