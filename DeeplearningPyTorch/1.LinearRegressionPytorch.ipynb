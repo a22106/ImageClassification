{
 "cells": [
  {
   "cell_type": "markdown",
   "metadata": {},
   "source": [
    "# Regression Basic"
   ]
  },
  {
   "cell_type": "markdown",
   "metadata": {},
   "source": [
    "###\n",
    "* 1. model = LinearRegression()\n",
    "* 2. model.predict(X)\n",
    "* 3. model.fit(X, Y)\n",
    "\n",
    "## Model Architecture\n",
    "\n",
    "y^ = mx + b (or ax + b)\n",
    "* hat symbol on 예측값\n",
    "* y는 true value/ target을 뜻함\n",
    "* 위 식은 모델 아키텍처\n"
   ]
  },
  {
   "cell_type": "markdown",
   "metadata": {},
   "source": [
    "# Finding the slope and intercept\n",
    "\n",
    "* loss function 정의\n",
    "* loss = cost = error = objective\n",
    "* 데이터셋 (X, Y)과 setting for (m, b) and the loss\n",
    "* loss는 그 setting이 얼마나 좋게 설정되어있는지에 대한 척도로 작용할 수 있음\n",
    "\n",
    "## The Loss\n",
    "\n",
    "* Data = {(x1, y1), (x2, y2), (x3, y3), ..., (xn, yn)}\n",
    "* N = 데이터셋의 샘플 수\n",
    "* 1차선은 완벽하게 데이터포인트를 지날 수 없음"
   ]
  },
  {
   "cell_type": "markdown",
   "metadata": {},
   "source": [
    "* MSE = Mean Squared Error\n",
    "\n",
    "MSE = 1/N* sum(yi - yi^)**2"
   ]
  },
  {
   "cell_type": "code",
   "execution_count": null,
   "metadata": {},
   "outputs": [],
   "source": [
    "# 선형 회귀 모델 생성 입력1, 출력1\n",
    "model = nn.Linear(1, 1)\n",
    "\n",
    "# loss and optimizer\n",
    "# loss = cost = error = objective\n",
    "# Syntax를 찾기 위함\n",
    "criterion = nn.MSELoss()\n",
    "optimizer = torch.optim.SGD(model.parameters(), lr=0.01)\n",
    "\n",
    "# 모델 훈련\n",
    "n_epochs = 30\n",
    "for it in range(n_epochs):\n",
    "    # zero the parameter gradients\n",
    "    optimizer.zero_grad() \n",
    "\n",
    "    # Forward pass\n",
    "    outputs = model(inputs)\n",
    "    loss = criterion(outputs, targets)\n",
    "\n",
    "    # Backwards and optimize\n",
    "    loss.backward()\n",
    "    optimizer.step()\n",
    "\n"
   ]
  },
  {
   "cell_type": "markdown",
   "metadata": {},
   "source": [
    "Data: (X, Y) is different with (inputs, targets)\n",
    "X, Y are the data in Numpy arrays\n",
    "inputs, targets are Torch Tensors"
   ]
  },
  {
   "cell_type": "code",
   "execution_count": null,
   "metadata": {},
   "outputs": [],
   "source": [
    "# In ML\n",
    "# (num_samples x num_dimensions)\n",
    "# num_samples means batch_size\n",
    "X = X.reshpae(N, 1)\n",
    "Y = Y.reshape(N, 1)\n",
    "\n",
    "# Pytorch uses float 32 by default\n",
    "# Numpy creates float 64 by default\n",
    "inputs = torch.from_numpy(X.astype(np.float32))\n",
    "targets = torch.from_numpy(Y.astype(np.float32))\n",
    "\n",
    "# Making predictions\n",
    "# Forward pass\n",
    "outputs = model(inputs) # this just gives a Torch Tensor\n",
    "\n",
    "predictions = model(inputs).detach().numpy() # Detach from graph and convert to Numpy array"
   ]
  },
  {
   "cell_type": "markdown",
   "metadata": {},
   "source": [
    "# Regression code starts"
   ]
  },
  {
   "cell_type": "code",
   "execution_count": 1,
   "metadata": {},
   "outputs": [
    {
     "name": "stderr",
     "output_type": "stream",
     "text": [
      "c:\\Users\\PiusHwang\\Anaconda3\\envs\\aicomp\\lib\\site-packages\\tqdm\\auto.py:22: TqdmWarning: IProgress not found. Please update jupyter and ipywidgets. See https://ipywidgets.readthedocs.io/en/stable/user_install.html\n",
      "  from .autonotebook import tqdm as notebook_tqdm\n"
     ]
    }
   ],
   "source": [
    "import torch\n",
    "import torch.nn as nn\n",
    "import numpy as np\n",
    "import matplotlib.pyplot as plt"
   ]
  },
  {
   "cell_type": "code",
   "execution_count": 2,
   "metadata": {},
   "outputs": [
    {
     "name": "stdout",
     "output_type": "stream",
     "text": [
      "[-0.16245032 -2.2013183   1.99631329  1.90542086 -2.36603574 -3.32326254\n",
      "  4.08266636  3.40388337 -2.8895864   0.95099421 -1.17415114 -3.88553656\n",
      " -4.23528317  3.51800843 -3.49250145  0.05529373  2.0828258  -1.59941849\n",
      "  2.52613653 -1.60000761]\n",
      "[-1.97118399 -3.1239886  -1.97313334  0.09463444 -0.9470397  -3.04784206\n",
      "  2.20327125  1.15593198 -2.70070109 -0.1404817  -1.45078325 -3.67911927\n",
      " -3.56974074 -0.43140437 -1.82787164 -1.23758547  0.4855439  -1.44960715\n",
      "  0.01864929 -2.4090788 ]\n"
     ]
    }
   ],
   "source": [
    "N = 20 # 20개의 데이터 포인트 생성\n",
    "\n",
    "# x 축에 랜덤 데이터 (-5, +5)\n",
    "X = np.random.random(N)*10 -5\n",
    "\n",
    "# a line plus some noise\n",
    "Y = 0.5 * X - 1 + np.random.randn(N)\n",
    "\n",
    "print(X)\n",
    "print(Y)"
   ]
  },
  {
   "cell_type": "code",
   "execution_count": 3,
   "metadata": {},
   "outputs": [],
   "source": [
    "model = nn.Linear(1, 1)\n",
    "criterion = nn.MSELoss()\n",
    "optimizer = torch.optim.SGD(model.parameters(),lr = 0.1)\n",
    "\n",
    "\n",
    "X = X.reshape(N, 1)\n",
    "Y = Y.reshape(N, 1)\n",
    "\n",
    "inputs = torch.from_numpy(X.astype(np.float32))\n",
    "targets = torch.from_numpy(X.astype(np.float32))\n",
    "\n"
   ]
  },
  {
   "cell_type": "code",
   "execution_count": 4,
   "metadata": {},
   "outputs": [
    {
     "name": "stdout",
     "output_type": "stream",
     "text": [
      "Epoch 1/30, Loss: 30.4749\n",
      "Epoch 2/30, Loss: 5.6917\n",
      "Epoch 3/30, Loss: 1.2309\n",
      "Epoch 4/30, Loss: 0.3675\n",
      "Epoch 5/30, Loss: 0.1626\n",
      "Epoch 6/30, Loss: 0.0919\n",
      "Epoch 7/30, Loss: 0.0570\n",
      "Epoch 8/30, Loss: 0.0364\n",
      "Epoch 9/30, Loss: 0.0234\n",
      "Epoch 10/30, Loss: 0.0151\n",
      "Epoch 11/30, Loss: 0.0098\n",
      "Epoch 12/30, Loss: 0.0063\n",
      "Epoch 13/30, Loss: 0.0041\n",
      "Epoch 14/30, Loss: 0.0026\n",
      "Epoch 15/30, Loss: 0.0017\n",
      "Epoch 16/30, Loss: 0.0011\n",
      "Epoch 17/30, Loss: 0.0007\n",
      "Epoch 18/30, Loss: 0.0005\n",
      "Epoch 19/30, Loss: 0.0003\n",
      "Epoch 20/30, Loss: 0.0002\n",
      "Epoch 21/30, Loss: 0.0001\n",
      "Epoch 22/30, Loss: 0.0001\n",
      "Epoch 23/30, Loss: 0.0001\n",
      "Epoch 24/30, Loss: 0.0000\n",
      "Epoch 25/30, Loss: 0.0000\n",
      "Epoch 26/30, Loss: 0.0000\n",
      "Epoch 27/30, Loss: 0.0000\n",
      "Epoch 28/30, Loss: 0.0000\n",
      "Epoch 29/30, Loss: 0.0000\n",
      "Epoch 30/30, Loss: 0.0000\n"
     ]
    }
   ],
   "source": [
    "n_epochs = 30\n",
    "losses = []\n",
    "\n",
    "for it in range(n_epochs):\n",
    "    # zero parameter gradient\n",
    "    optimizer.zero_grad()\n",
    "\n",
    "    # forward pass\n",
    "    outputs = model(inputs)\n",
    "    loss = criterion(outputs, targets)\n",
    "\n",
    "    # loss 계속 저장\n",
    "    losses.append(loss.item())\n",
    "\n",
    "    loss.backward()\n",
    "    optimizer.step()\n",
    "\n",
    "    print(f'Epoch {it + 1}/{n_epochs}, Loss: {loss.item():.4f}')"
   ]
  },
  {
   "cell_type": "code",
   "execution_count": 5,
   "metadata": {},
   "outputs": [],
   "source": [
    "#plt.plot(losses)"
   ]
  },
  {
   "cell_type": "code",
   "execution_count": 6,
   "metadata": {},
   "outputs": [],
   "source": [
    "predicted = model(inputs).detach().numpy()\n",
    "# plt.scatter(X, Y, label = 'Original data')\n",
    "# plt.plot(X, predicted, label='Fitted line')\n",
    "# plt.legend()\n",
    "# plt.show()"
   ]
  },
  {
   "cell_type": "code",
   "execution_count": 7,
   "metadata": {},
   "outputs": [
    {
     "data": {
      "text/plain": [
       "array([[-0.16121385],\n",
       "       [-2.2002156 ],\n",
       "       [ 1.9976916 ],\n",
       "       [ 1.9067932 ],\n",
       "       [-2.364944  ],\n",
       "       [-3.3222337 ],\n",
       "       [ 4.0841813 ],\n",
       "       [ 3.4053543 ],\n",
       "       [-2.888529  ],\n",
       "       [ 0.9523038 ],\n",
       "       [-1.1729811 ],\n",
       "       [-3.8845446 ],\n",
       "       [-4.2343144 ],\n",
       "       [ 3.5194867 ],\n",
       "       [-3.4914837 ],\n",
       "       [ 0.05654452],\n",
       "       [ 2.08421   ],\n",
       "       [-1.5982764 ],\n",
       "       [ 2.5275497 ],\n",
       "       [-1.5988656 ]], dtype=float32)"
      ]
     },
     "execution_count": 7,
     "metadata": {},
     "output_type": "execute_result"
    }
   ],
   "source": [
    "with torch.no_grad():\n",
    "    out = model(inputs).numpy()\n",
    "out"
   ]
  },
  {
   "cell_type": "code",
   "execution_count": 8,
   "metadata": {},
   "outputs": [
    {
     "name": "stdout",
     "output_type": "stream",
     "text": [
      "[[1.0000657]] [0.00124716]\n"
     ]
    }
   ],
   "source": [
    "# 중요!\n",
    "# 모델을 잘 테스트하기위해서는 임의로 만든 데이터가 유용함\n",
    "# 왜냐하면 이미 답을 알고있기 떄문에 비교가 용이하기떄문\n",
    "# True vales of (w, b) are 0.5, -1\n",
    "w = model.weight.data.numpy()\n",
    "b = model.bias.data.numpy()\n",
    "print(w, b)"
   ]
  },
  {
   "cell_type": "code",
   "execution_count": 9,
   "metadata": {},
   "outputs": [
    {
     "data": {
      "text/plain": [
       "tensor([[1.],\n",
       "        [2.],\n",
       "        [3.]])"
      ]
     },
     "execution_count": 9,
     "metadata": {},
     "output_type": "execute_result"
    }
   ],
   "source": [
    "x_train = torch.FloatTensor([[1], [2], [3]])\n",
    "x_train"
   ]
  }
 ],
 "metadata": {
  "kernelspec": {
   "display_name": "Python 3.8.5 ('aicomp')",
   "language": "python",
   "name": "python3"
  },
  "language_info": {
   "codemirror_mode": {
    "name": "ipython",
    "version": 3
   },
   "file_extension": ".py",
   "mimetype": "text/x-python",
   "name": "python",
   "nbconvert_exporter": "python",
   "pygments_lexer": "ipython3",
   "version": "3.8.5"
  },
  "orig_nbformat": 4,
  "vscode": {
   "interpreter": {
    "hash": "ca3cd20c8ed94420af4701aa4e5766dbc68c4ea6bc8409f5f338bc464fc401d0"
   }
  }
 },
 "nbformat": 4,
 "nbformat_minor": 2
}
