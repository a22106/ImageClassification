{
 "cells": [
  {
   "cell_type": "code",
   "execution_count": 78,
   "metadata": {},
   "outputs": [],
   "source": [
    "import open3d as o3d\n",
    "import numpy as np\n",
    "import sys\n",
    "import math\n",
    "\n",
    "import pandas as pd\n",
    "from scipy.spatial.transform import Rotation as R\n"
   ]
  },
  {
   "cell_type": "code",
   "execution_count": 79,
   "metadata": {},
   "outputs": [],
   "source": [
    "def get_minmax(pcd_path):\n",
    "    ##// pcd 데이터 좌표범위 검증용\n",
    "    pcd_load = o3d.io.read_point_cloud(pcd_path)\n",
    "    pc_array = np.asarray(pcd_load.points)\n",
    "    \n",
    "    x_min = sys.float_info.max\n",
    "    y_min = sys.float_info.max\n",
    "    z_min = sys.float_info.max\n",
    "    x_max = sys.float_info.min\n",
    "    y_max = sys.float_info.min\n",
    "    z_max = sys.float_info.min\n",
    "    \n",
    "    depth_list = []\n",
    "    for pt in pc_array:\n",
    "        x = pt[0]\n",
    "        y = pt[1]\n",
    "        z = pt[2]\n",
    "        \n",
    "        if x < x_min: x_min = x\n",
    "        if y < y_min: y_min = y\n",
    "        if z < z_min: z_min = z\n",
    "        \n",
    "        if x > x_max: x_max = x\n",
    "        if y > y_max: y_max = y\n",
    "        if z > z_max: z_max = z\n",
    "        \n",
    "        dist = math.sqrt( (x**2) + (y**2) + (z**2) )\n",
    "        depth_list.append(dist)\n",
    "    \n",
    "    print(\"\\n x min max\")\n",
    "    print(x_min, x_max)\n",
    "    \n",
    "    print(\"\\n y min max\")\n",
    "    print(y_min, y_max)\n",
    "    \n",
    "    print(\"\\n z min max\") \n",
    "    print(z_min, z_max)\n",
    "    return depth_list, x_min, x_max, y_min, y_max, z_min, z_max\n",
    "\n",
    "\n",
    "\n",
    "def flip_xy(arr):\n",
    "    \n",
    "    arr = pd.DataFrame(arr, columns=['x', 'y', 'z'])\n",
    "\n",
    "    #arr = arr[['y', 'x', 'z']]\n",
    "    \n",
    "    arr['x'] = arr['x'] * (-1)\n",
    "    arr['y'] = arr['y'] * (-1)\n",
    "    #arr['z'] = arr['z'] * (-1)\n",
    "    \n",
    "    arr = arr.to_numpy()\n",
    "\n",
    "    return arr\n",
    "\n",
    "\n",
    "def flip_xyz(pcd_arr, to_flip=None):\n",
    "    ##// input np.array shape (N, 3)\n",
    "    ##// to_flip (str): 'xyz', 'xy'......\n",
    "    pcd_arr = pd.DataFrame(pcd_arr, columns=['x', 'y', 'z'])\n",
    "    \n",
    "    pcd_arr['x'] = pcd_arr['x'] * (-1)\n",
    "    pcd_arr['y'] = pcd_arr['y'] * (-1)\n",
    "    \n",
    "    pcd_arr = pcd_arr.to_numpy()\n",
    "    \n",
    "    for i in range(len(pcd_arr)):\n",
    "        if 'x' in to_flip:\n",
    "            pcd_arr[i,0] = -(pcd_arr[i,0])    \n",
    "        if 'y' in to_flip:\n",
    "            pcd_arr[i,1] = -(pcd_arr[i,1])\n",
    "        if 'z' in to_flip:\n",
    "            pcd_arr[i,2] = -(pcd_arr[i,2])\n",
    "\n",
    "    return pcd_arr\n",
    "\n",
    "\n",
    "\n",
    "def rotate_pcd(pc_arr, dir_vec, theta):\n",
    "    ret = []\n",
    "    \n",
    "    for pt in pc_arr:\n",
    "        v = pt * math.cos(theta) + math.sin(theta)*np.cross(dir_vec, pt) + (1-math.cos(theta))*(np.dot(dir_vec, pt))*dir_vec\n",
    "        ret.append(v)\n",
    "    ret = np.asarray(ret)\n",
    "    return ret\n",
    "\n",
    "\n",
    "def rotate_pcd2(pc_arr, rmat):\n",
    "    ret = []\n",
    "    for pt in pc_arr:\n",
    "        v = rmat @ pt\n",
    "        ret.append(v)\n",
    "    ret = np.asarray(ret)\n",
    "    return ret\n",
    "\n",
    "\n",
    "def cut_pcd(pc_arr, direction=-1):\n",
    "    pc_arr = pd.DataFrame(pc_arr, columns=['x', 'y', 'z'])\n",
    "    #pc_arr = pc_arr[pc_arr['z'] >= -1 ]\n",
    "    \n",
    "    if direction==1:\n",
    "        pc_arr = pc_arr[pc_arr['y'] <= 0]\n",
    "    elif direction==2:\n",
    "        pc_arr = pc_arr[pc_arr['x'] >= 0]\n",
    "    elif direction==3:\n",
    "        pc_arr = pc_arr[pc_arr['y'] >= 0]\n",
    "    elif direction==4:\n",
    "        pc_arr = pc_arr[pc_arr['y'] >= 0]\n",
    "    elif direction==5:\n",
    "        pc_arr = pc_arr[pc_arr['x'] <= 0]\n",
    "    \n",
    "    pc_arr = pc_arr.to_numpy()\n",
    "    return pc_arr\n",
    "\n",
    "\n"
   ]
  },
  {
   "cell_type": "code",
   "execution_count": 80,
   "metadata": {},
   "outputs": [],
   "source": [
    "lidar_path = \"./dataset_sample/lidar/000599.pcd\"\n",
    "radar_path = \"./dataset_sample/radar/000599.pcd\""
   ]
  },
  {
   "cell_type": "code",
   "execution_count": 81,
   "metadata": {},
   "outputs": [
    {
     "name": "stdout",
     "output_type": "stream",
     "text": [
      "[[-9.99677251e-01  2.53525896e-02 -1.62478476e-03]\n",
      " [-2.54046004e-02 -9.97630611e-01  6.39356784e-02]\n",
      " [-1.08420217e-19  6.39563202e-02  9.97952699e-01]]\n"
     ]
    }
   ],
   "source": [
    "lr = 3.666930\n",
    "ud = 0.000000\n",
    "rot_deg = 181.455733\n",
    "rot_rad = rot_deg * (math.pi / 180)\n",
    "\n",
    "dir_vec = np.asarray([[-lr, -1.0, ud]]) / math.sqrt(lr**2 + 1 + ud**2)\n",
    "\n",
    "axis_angle = (dir_vec * rot_deg).reshape((3,1))\n",
    "\n",
    "r = R.from_euler('xyz', [lr, ud, rot_deg], degrees=True)\n",
    "rmat = r.as_matrix()\n",
    "print(rmat)\n",
    "tvec = np.asarray([0.006550,-2.671000,-2.365720])"
   ]
  },
  {
   "cell_type": "code",
   "execution_count": 82,
   "metadata": {},
   "outputs": [],
   "source": [
    "pcd_load_lidar = o3d.io.read_point_cloud(lidar_path)\n",
    "pc_array_lidar = np.asarray(pcd_load_lidar.points)\n",
    "\n",
    "pcd_load_radar = o3d.io.read_point_cloud(radar_path)\n",
    "pc_array_radar = np.asarray(pcd_load_radar.points)\n",
    "\n",
    "#pc_array_radar = rotate_pcd2(pc_array_radar, rmat)\n",
    "pc_array_radar = flip_xyz(pc_array_radar, 'y')\n",
    "\n",
    "pc_array_radar = pc_array_radar + tvec"
   ]
  },
  {
   "cell_type": "code",
   "execution_count": 83,
   "metadata": {},
   "outputs": [
    {
     "name": "stdout",
     "output_type": "stream",
     "text": [
      "(64000, 3) (485, 3)\n",
      "(64000, 3) (485, 3) (64485, 3)\n"
     ]
    }
   ],
   "source": [
    "print(pc_array_lidar.shape, pc_array_radar.shape)\n",
    "pc_array = np.concatenate((pc_array_lidar, pc_array_radar), axis=0)\n",
    "\n",
    "print(pc_array_lidar.shape, pc_array_radar.shape, pc_array.shape)\n",
    "lidar_color = np.zeros((len(pc_array_lidar), 3))\n",
    "radar_color = np.zeros((len(pc_array_radar), 3)) "
   ]
  },
  {
   "cell_type": "code",
   "execution_count": 84,
   "metadata": {},
   "outputs": [
    {
     "data": {
      "text/plain": [
       "(64485, 3)"
      ]
     },
     "execution_count": 84,
     "metadata": {},
     "output_type": "execute_result"
    }
   ],
   "source": [
    "lidar_color = pd.DataFrame(lidar_color, columns=['r', 'g', 'b'], dtype=np.int64)\n",
    "lidar_color['b'] = lidar_color['b'] + 255\n",
    "\n",
    "radar_color = pd.DataFrame(radar_color, columns=['r', 'g', 'b'], dtype=np.int64)\n",
    "radar_color['r'] = radar_color['r'] + 255\n",
    "\n",
    "lidar_color = lidar_color.to_numpy()\n",
    "radar_color = radar_color.to_numpy()\n",
    "\n",
    "color_array = np.concatenate((lidar_color, radar_color), axis=0)\n",
    "\n",
    "color_array.shape"
   ]
  },
  {
   "cell_type": "code",
   "execution_count": 85,
   "metadata": {},
   "outputs": [],
   "source": [
    "point_cloud = o3d.geometry.PointCloud()\n",
    "point_cloud.points = o3d.utility.Vector3dVector(pc_array) # array_of_points.shape = (N,3)\n",
    "point_cloud.colors = o3d.utility.Vector3dVector(color_array) # array_of_colors.shape = (N,3)\n",
    "\n",
    "o3d.visualization.draw_geometries([point_cloud])"
   ]
  }
 ],
 "metadata": {
  "kernelspec": {
   "display_name": "Python 3.7.13 ('py37')",
   "language": "python",
   "name": "python3"
  },
  "language_info": {
   "codemirror_mode": {
    "name": "ipython",
    "version": 3
   },
   "file_extension": ".py",
   "mimetype": "text/x-python",
   "name": "python",
   "nbconvert_exporter": "python",
   "pygments_lexer": "ipython3",
   "version": "3.7.13"
  },
  "orig_nbformat": 4,
  "vscode": {
   "interpreter": {
    "hash": "f5f7f929b9009edf18461091d1ab1134f37841b777dff40f508133dfe8c67195"
   }
  }
 },
 "nbformat": 4,
 "nbformat_minor": 2
}
