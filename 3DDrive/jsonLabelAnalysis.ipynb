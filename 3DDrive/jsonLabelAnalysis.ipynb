{
 "cells": [
  {
   "cell_type": "code",
   "execution_count": 5,
   "metadata": {},
   "outputs": [],
   "source": [
    "import pandas as pd\n",
    "import numpy as np\n",
    "import json"
   ]
  },
  {
   "cell_type": "code",
   "execution_count": null,
   "metadata": {},
   "outputs": [],
   "source": [
    "from torchvision import datasets"
   ]
  },
  {
   "cell_type": "code",
   "execution_count": null,
   "metadata": {},
   "outputs": [],
   "source": [
    "datasets.Kitti()"
   ]
  },
  {
   "cell_type": "code",
   "execution_count": 6,
   "metadata": {},
   "outputs": [],
   "source": [
    "json_path = \"G:\\내 드라이브\\data\\AIhub\\특수환경 자율주행 3D 이미지\\Training\\[라벨]seoul1\\drive_620\\meta\\drive_620_000000.json\""
   ]
  },
  {
   "cell_type": "code",
   "execution_count": 7,
   "metadata": {},
   "outputs": [
    {
     "name": "stdout",
     "output_type": "stream",
     "text": [
      "{\"IMAGE_INFO\": {\"CAMETA_NAME\": \"front\", \"DATA_COLLECTION_TIME\": \"20201023_131656\", \"WEATHER\": 1, \"TEMPERTATURE\": 11.4, \"HUMIDITY\": 39, \"DATA_COLLECTION_AREA\": [{\"LATITUDE\": \"37.409306\", \"HARDNESS\": \"127.094715\"}], \"ROAD_TYPE\": \"R\", \"ROAD_TYPE_CLASSIFICATION\": \"E\", \"ACQUISITION_TIME\": \"D\", \"COLLECTION_ORGANIZATION\": \"mobiltech\", \"DATA_SIZE\": 1.1, \"TEMPERATURE\": \"Y,U\", \"Vehicle Model\": \"KIA Morning\", \"IMAGE_PATH\": \"\\\\drive_620\\\\image_0\\\\drive_620_000000.jpg\", \"IMAGE_HEIGHT\": 1200, \"IMAGE_WIDTH\": 1920}, \"OBJECT_LIST\": [{\"2D_LIST\": [{\"POLYGON\": [472, 743, 845, 734, 1328, 711, 1433, 706, 1555, 698, 1559, 710, 1307, 719, 780, 744, 471, 751], \"COLOR\": \"WHITE\", \"COUNT\": \"1\", \"CLASS\": \"LANE\", \"TYPE\": \"DASHED\"}, {\"POLYGON\": [3, 900, 621, 876, 1001, 858, 1295, 834, 1576, 807, 1776, 784, 1780, 807, 1309, 840, 959, 870, 611, 886, 0, 915], \"COLOR\": \"YELLOW\", \"COUNT\": \"1\", \"CLASS\": \"LANE\", \"TYPE\": \"SOLID\"}, {\"POLYGON\": [0, 647, 207, 644, 559, 636, 817, 628, 1051, 619, 1727, 605, 1795, 605, 1877, 604, 1877, 608, 1745, 608, 1621, 610, 1251, 621, 1082, 628, 823, 639, 565, 649, 151, 660, 0, 662], \"CLASS\": \"curb\"}], \"3D_LIST\": [{\"BOX\": [1508, 622, 1920, 1006], \"CLASS\": \"VEHICLE\", \"TYPE\": \"TRUCK\", \"ACCELERATION\": \"NO\", \"DIMENSION\": [1.71, 3.05, 4.86], \"DISTANCE\": 7.78, \"INSTANCE_ID\": 0, \"LOCATION\": [-5.41, 5.48, -1.09], \"YAW\": 0.0}, {\"BOX\": [1305, 520, 1690, 699], \"CLASS\": \"VEHICLE\", \"TYPE\": \"TRUCK\", \"ACCELERATION\": \"YES\", \"DIMENSION\": [0, 0, 0], \"DISTANCE\": 0.0, \"INSTANCE_ID\": 1, \"LOCATION\": [0.0, 0.0, 0.0], \"YAW\": 0.0}, {\"BOX\": [1092, 545, 1340, 664], \"CLASS\": \"VEHICLE\", \"TYPE\": \"SUV\", \"ACCELERATION\": \"YES\", \"DIMENSION\": [0, 0, 0], \"DISTANCE\": 0.0, \"INSTANCE_ID\": 2, \"LOCATION\": [0.0, 0.0, 0.0], \"YAW\": 0.0}, {\"BOX\": [986, 546, 1096, 624], \"CLASS\": \"VEHICLE\", \"TYPE\": \"TRUCK\", \"ACCELERATION\": \"NO\", \"DIMENSION\": [0, 0, 0], \"DISTANCE\": 0.0, \"INSTANCE_ID\": 3, \"LOCATION\": [0.0, 0.0, 0.0], \"YAW\": 0.0}]}]}\n"
     ]
    }
   ],
   "source": [
    "with open(json_path, 'r') as f:\n",
    "    label_json = json.load(f)\n",
    "print(json.dumps(label_json))"
   ]
  },
  {
   "cell_type": "code",
   "execution_count": 18,
   "metadata": {},
   "outputs": [],
   "source": [
    "class Fusion3D:\n",
    "    def __init__(self, json_label):\n",
    "        r'''\n",
    "        json_label\n",
    "        '''\n",
    "        self.img_info = json_label[\"IMAGE_INFO\"]\n",
    "        self.img_path = self.img_info[\"IMAGE_PATH\"]\n",
    "        self.height = self.img_info[\"IMAGE_HEIGHT\"]\n",
    "        self.width = self.img_info[\"IMAGE_WIDTH\"]\n",
    "\n",
    "        self.ObjList2D = json_label[\"OBJECT_LIST\"][0][\"2D_LIST\"]\n",
    "        self.ObjList3D = json_label[\"OBJECT_LIST\"][0][\"3D_LIST\"]\n",
    "        \n",
    "    def Anno2D(self):\n",
    "        num_2D = len(self.ObjList2D)\n",
    "    \n",
    "        \n",
    "        "
   ]
  },
  {
   "cell_type": "code",
   "execution_count": 28,
   "metadata": {},
   "outputs": [
    {
     "data": {
      "text/plain": [
       "3"
      ]
     },
     "execution_count": 28,
     "metadata": {},
     "output_type": "execute_result"
    }
   ],
   "source": [
    "ObjList2D = label_json[\"OBJECT_LIST\"][0][\"2D_LIST\"]\n",
    "len(ObjList2D)"
   ]
  },
  {
   "cell_type": "code",
   "execution_count": 17,
   "metadata": {},
   "outputs": [
    {
     "name": "stdout",
     "output_type": "stream",
     "text": [
      "1200 1920\n"
     ]
    }
   ],
   "source": [
    "height, width = label_json[\"IMAGE_INFO\"][\"IMAGE_HEIGHT\"], label_json[\"IMAGE_INFO\"][\"IMAGE_WIDTH\"]\n",
    "print(height, width)"
   ]
  }
 ],
 "metadata": {
  "kernelspec": {
   "display_name": "Python 3.9.12 ('base')",
   "language": "python",
   "name": "python3"
  },
  "language_info": {
   "codemirror_mode": {
    "name": "ipython",
    "version": 3
   },
   "file_extension": ".py",
   "mimetype": "text/x-python",
   "name": "python",
   "nbconvert_exporter": "python",
   "pygments_lexer": "ipython3",
   "version": "3.9.12"
  },
  "orig_nbformat": 4,
  "vscode": {
   "interpreter": {
    "hash": "2043299c89c8cd0b4d1a6f5cf4529bd58e6a4e0fe3181a25e0d328c821cdc5c5"
   }
  }
 },
 "nbformat": 4,
 "nbformat_minor": 2
}
