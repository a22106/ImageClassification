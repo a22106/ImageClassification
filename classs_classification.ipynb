{
 "cells": [
  {
   "cell_type": "code",
   "execution_count": 3,
   "metadata": {},
   "outputs": [],
   "source": [
    "import glob\n",
    "import torch\n",
    "import os"
   ]
  },
  {
   "cell_type": "code",
   "execution_count": 26,
   "metadata": {},
   "outputs": [],
   "source": [
    "DATA_DIR = \"C:/Users/Admin/OneDrive/C Documents/GitHub/ImageClassification/data\"\n",
    "train_l_idx = glob.glob(os.path.join(DATA_DIR, 'train', 'labeled_images', '*.jpg'))"
   ]
  },
  {
   "cell_type": "code",
   "execution_count": 27,
   "metadata": {},
   "outputs": [
    {
     "data": {
      "text/plain": [
       "['container_truck_2mnHlYWkqY.jpg',\n",
       " 'container_truck_4smj29LLey.jpg',\n",
       " 'container_truck_6xiM8xMgtu.jpg',\n",
       " 'container_truck_b1ibW2Oe1q.jpg',\n",
       " 'container_truck_B4hbdAav8Y.jpg']"
      ]
     },
     "execution_count": 27,
     "metadata": {},
     "output_type": "execute_result"
    }
   ],
   "source": [
    "[class_name.split('\\\\')[-1] for class_name in train_l_idx][:5]"
   ]
  },
  {
   "cell_type": "code",
   "execution_count": 28,
   "metadata": {},
   "outputs": [],
   "source": [
    "classes = [class_name.split('\\\\')[-1].split('_')[0] for class_name in train_l_idx]"
   ]
  },
  {
   "cell_type": "code",
   "execution_count": 29,
   "metadata": {},
   "outputs": [
    {
     "name": "stdout",
     "output_type": "stream",
     "text": [
      "Counter({'ship': 53, 'forklift': 37, 'container': 32, 'reach': 13})\n"
     ]
    }
   ],
   "source": [
    "from collections import Counter\n",
    "\n",
    "print(Counter(classes))"
   ]
  }
 ],
 "metadata": {
  "kernelspec": {
   "display_name": "Python 3.8.13 ('imgseg')",
   "language": "python",
   "name": "python3"
  },
  "language_info": {
   "codemirror_mode": {
    "name": "ipython",
    "version": 3
   },
   "file_extension": ".py",
   "mimetype": "text/x-python",
   "name": "python",
   "nbconvert_exporter": "python",
   "pygments_lexer": "ipython3",
   "version": "3.8.13"
  },
  "orig_nbformat": 4,
  "vscode": {
   "interpreter": {
    "hash": "d845fd51fc75d2ae1670e74f4f446c0d06dfba8d4cc9ca0062c740d6c529ae66"
   }
  }
 },
 "nbformat": 4,
 "nbformat_minor": 2
}
