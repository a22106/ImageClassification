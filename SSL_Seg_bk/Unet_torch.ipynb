{
 "cells": [
  {
   "cell_type": "code",
   "execution_count": 72,
   "metadata": {},
   "outputs": [],
   "source": [
    "from PIL import Image, ImageOps\n",
    "import glob\n",
    "import os\n",
    "import torch\n",
    "from torch.utils.data import Dataset, DataLoader\n",
    "from pathlib import Path\n",
    "\n"
   ]
  },
  {
   "cell_type": "code",
   "execution_count": null,
   "metadata": {},
   "outputs": [],
   "source": [
    "root = \"D:/Dataset/object_harbor/\"\n",
    "raw_root = \"D:/Dataset/object_harbor/Training/seg/harbor/gantry_crane_raw\"\n",
    "val_root = \"D:/Dataset/object_harbor/Validation/seg/harbor/gantry_crane_raw\"\n",
    "\n",
    "# train = true: 훈련 데이터, train = false: 검증데이터\n",
    "def get_data_idx(root, train = True, label = False, class_name = \"gantry_crane\"):\n",
    "    file_name, file_root = [], []\n",
    "\n",
    "    # for filename in os.istdir(root):\n",
    "    root = os.path.expanduser(root)\n",
    "    \n",
    "    if train:\n",
    "        root = root + \"{}/seg/harbor/{}\".format(\"Training\", class_name)\n",
    "    else:\n",
    "        root = root + \"{}/seg/harbor/{}\".format(\"Validation\". class_name)\n",
    "\n",
    "    if label:\n",
    "        root = root + \"_label\"\n",
    "        file_root = glob.glob(root + \"/*.json\")\n",
    "    else:\n",
    "        root = root + \"_raw\"\n",
    "        file_root = glob.glob(root + \"/*.jpg\")\n",
    "\n",
    "    for idx in range(len(file_root)):\n",
    "        file_name.append(file_root[idx].split('\\\\')[-1].split('.')[0])\n",
    "    \n",
    "    return file_root, file_name\n",
    "\n",
    "file_root = get_data_idx(root, label=True)\n",
    "print(file_root[0][:5], file_root[1][:5])"
   ]
  },
  {
   "cell_type": "code",
   "execution_count": null,
   "metadata": {},
   "outputs": [],
   "source": [
    "class HarborDataset(Dataset):\n",
    "    def __init__(self, images_dir: str, mask_dir: str, img_list: str, scale: float = 1.0, mask_suffix: str = ''):\n",
    "        self.images_dir = Path(images_dir)\n",
    "        self.masks_dir = Path(mask_dir)\n",
    "        assert 0 < scale <=1, 'Scale must be between 0 and 1'\n",
    "        self.scale = scale\n",
    "        self.mask_suffix = mask_suffix\n",
    "\n",
    "        self.ids = img_list\n",
    "    \n",
    "    def __len__(self):\n",
    "        return len(self.ids)\n",
    "\n",
    "    @staticmethod\n",
    "    def preprocess(pil_img, scale, is_mask):\n",
    "        w, h = pil_img.size\n",
    "        newW, newH = int(scale * w), int(scale * h)\n",
    "        assert newW > 0 and newH > 0, 'Scale is too small, resized images would have no pixel'\n",
    "        pil_img = pil_img.resize((newW, newH), resample=Image.NEAREST if is_mask else Image.BICUBIC)\n",
    "        img_ndarray = np.asarray(pil_img)\n",
    "\n",
    "        if not is_mask:\n",
    "            if img_ndarray.ndim == 2:\n",
    "                img_ndarray = img_ndarray[np.newaxis, ...]\n",
    "            else:\n",
    "                img_ndarray = img_ndarray.transpose((2, 0, 1))\n",
    "    \n",
    "    @staticmethod\n",
    "    def load(filename):\n",
    "        return Image.open(filename)\n",
    "\n",
    "    def __getitem__(self, idx):\n",
    "        name = self.ids[idx]"
   ]
  },
  {
   "cell_type": "code",
   "execution_count": null,
   "metadata": {},
   "outputs": [],
   "source": [
    "\n",
    "def train_net(net, device, epochs: int = 5, batch_size: int = 1,\n",
    "                learning_rate: float = 1e-5, val_percent: float = 0.1,\n",
    "                save_checkpoint: bool = True, img_scale: float = 0.5,\n",
    "                amp: bool = False):\n",
    "    # 1. Create dataset\n",
    "    \n",
    "\n",
    "    # 2. \n",
    "    for epoch in range(1, epoch+1):\n",
    "        net.train()\n",
    "    \n",
    "    "
   ]
  }
 ],
 "metadata": {
  "interpreter": {
   "hash": "ca3cd20c8ed94420af4701aa4e5766dbc68c4ea6bc8409f5f338bc464fc401d0"
  },
  "kernelspec": {
   "display_name": "Python 3.8.5 ('aicomp')",
   "language": "python",
   "name": "python3"
  },
  "language_info": {
   "codemirror_mode": {
    "name": "ipython",
    "version": 3
   },
   "file_extension": ".py",
   "mimetype": "text/x-python",
   "name": "python",
   "nbconvert_exporter": "python",
   "pygments_lexer": "ipython3",
   "version": "3.8.5"
  },
  "orig_nbformat": 4
 },
 "nbformat": 4,
 "nbformat_minor": 2
}
